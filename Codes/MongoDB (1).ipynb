{
 "cells": [
  {
   "cell_type": "code",
   "execution_count": 1,
   "id": "0ddf7485",
   "metadata": {},
   "outputs": [],
   "source": [
    "from pymongo import MongoClient, collection\n",
    "import pandas as pd"
   ]
  },
  {
   "cell_type": "code",
   "execution_count": 2,
   "id": "9ea10419",
   "metadata": {},
   "outputs": [
    {
     "name": "stdout",
     "output_type": "stream",
     "text": [
      "['_id', 'UID', 'Name', 'Gender', 'State', 'City', 'Age', 'Taken_Vaccine', 'Vaccine_Name', 'First_Dose_Side_Effects', 'First_Dose_Date', 'Second_Dose_Date', 'Cowin_Ref_ID', 'Second_Dose_Status', 'Second_Dose_Side_Effects', 'Positive_After_Vaccine', 'Diseases', 'Booster_Dose_Possibility']\n"
     ]
    }
   ],
   "source": [
    "read_host_url = \"mongodb://localhost:27017/\"\n",
    "client = MongoClient(read_host_url)\n",
    "db = client['covid']\n",
    "collection = db.vaccination\n",
    "\n",
    "cursor = collection.find().limit(1)\n",
    "field_names = cursor[0].keys()\n",
    "print(list(field_names))\n",
    "cursor = collection.find()\n",
    "# for doc in cursor:\n",
    "#    keys = \n",
    "#    print(doc)\n",
    "#    break"
   ]
  },
  {
   "cell_type": "code",
   "execution_count": 5,
   "id": "5ec8e054",
   "metadata": {},
   "outputs": [],
   "source": [
    "# save csv file from mongodb\n",
    "\n",
    "df =  pd.DataFrame(list(cursor))\n",
    "df.to_csv('Sampada_dataset.csv', index=False)\n"
   ]
  },
  {
   "cell_type": "code",
   "execution_count": 4,
   "id": "219cbf39",
   "metadata": {},
   "outputs": [],
   "source": [
    "# following code is to connect spark to mongodb using pyspark\n",
    "\n",
    "mongo_uri = \"mongodb://127.0.0.1:27017/covid.vaccination\""
   ]
  },
  {
   "cell_type": "code",
   "execution_count": 24,
   "id": "128ba110",
   "metadata": {},
   "outputs": [
    {
     "data": {
      "text/plain": [
       "'\\nimport pyspark\\n\\nconf = pyspark.SparkConf().set(\"spark.jars.packages\",\\n               \"F:/Spark/jars/mongo-spark-connector_2.12-3.0.1.jar, F:/Spark/jars/bson-3.8.10.jar, F:/Spark/jars/mongodb-driver-core-3.8.1.jar, F:/Spark/jars/mongodb-driver-3.8.1.jar\").setMaster(\"local\").setAppName(\"My App\").setAll([(\"spark.driver.memory\", \"40g\"), (\"spark.executor.memory\", \"50g\")])\\n\\nsc = SparkContext.getOrCreate(conf=conf);\\nsqlC = SQLContext(sc)\\nvacc_data = sqlC.read.format(\"mongo\").option(\"uri\", mongo_uri).load()\\n'"
      ]
     },
     "execution_count": 24,
     "metadata": {},
     "output_type": "execute_result"
    }
   ],
   "source": [
    "'''\n",
    "import pyspark\n",
    "\n",
    "conf = pyspark.SparkConf().set(\"spark.jars.packages\",\n",
    "               \"F:/Spark/jars/mongo-spark-connector_2.12-3.0.1.jar, F:/Spark/jars/bson-3.8.10.jar, F:/Spark/jars/mongodb-driver-core-3.8.1.jar, F:/Spark/jars/mongodb-driver-3.8.1.jar\").setMaster(\"local\").setAppName(\"My App\").setAll([(\"spark.driver.memory\", \"40g\"), (\"spark.executor.memory\", \"50g\")])\n",
    "\n",
    "sc = SparkContext.getOrCreate(conf=conf);\n",
    "sqlC = SQLContext(sc)\n",
    "vacc_data = sqlC.read.format(\"mongo\").option(\"uri\", mongo_uri).load()\n",
    "'''"
   ]
  },
  {
   "cell_type": "code",
   "execution_count": 25,
   "id": "46f21f46",
   "metadata": {},
   "outputs": [
    {
     "data": {
      "text/plain": [
       "'\\nfrom pyspark.sql import SparkSession\\n\\n\\n\\nmy_spark = SparkSession     .builder     .master(\"local\")     .appName(\"booster-prediction\")     .config(\"spark.mongodb.input.uri\", mongo_uri)     .config(\"spark.mongodb.input.readPreference.name\", \"primaryPreferred\")     .config(\"spark.mongodb.output.uri\", mongo_uri)     .getOrCreate()\\n'"
      ]
     },
     "execution_count": 25,
     "metadata": {},
     "output_type": "execute_result"
    }
   ],
   "source": [
    "'''\n",
    "from pyspark.sql import SparkSession\n",
    "\n",
    "\n",
    "\n",
    "my_spark = SparkSession \\\n",
    "    .builder \\\n",
    "    .master(\"local\") \\\n",
    "    .appName(\"booster-prediction\") \\\n",
    "    .config(\"spark.mongodb.input.uri\", mongo_uri) \\\n",
    "    .config(\"spark.mongodb.input.readPreference.name\", \"primaryPreferred\") \\\n",
    "    .config(\"spark.mongodb.output.uri\", mongo_uri) \\\n",
    "    .getOrCreate()\n",
    "'''"
   ]
  },
  {
   "cell_type": "code",
   "execution_count": 26,
   "id": "60e01345",
   "metadata": {},
   "outputs": [],
   "source": [
    "# df = my_spark.read.format(\"mongo\").option(\"uri\",mongo_uri).load()\n",
    "# df.printSchema()\n"
   ]
  },
  {
   "cell_type": "code",
   "execution_count": null,
   "id": "ef0d850c",
   "metadata": {},
   "outputs": [],
   "source": []
  }
 ],
 "metadata": {
  "kernelspec": {
   "display_name": "Python 3 (ipykernel)",
   "language": "python",
   "name": "python3"
  },
  "language_info": {
   "codemirror_mode": {
    "name": "ipython",
    "version": 3
   },
   "file_extension": ".py",
   "mimetype": "text/x-python",
   "name": "python",
   "nbconvert_exporter": "python",
   "pygments_lexer": "ipython3",
   "version": "3.10.0"
  }
 },
 "nbformat": 4,
 "nbformat_minor": 5
}
