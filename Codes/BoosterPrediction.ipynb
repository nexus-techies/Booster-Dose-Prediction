{
  "nbformat": 4,
  "nbformat_minor": 0,
  "metadata": {
    "colab": {
      "name": "BoosterPrediction.ipynb",
      "provenance": [],
      "collapsed_sections": []
    },
    "kernelspec": {
      "name": "python3",
      "display_name": "Python 3"
    },
    "language_info": {
      "name": "python"
    }
  },
  "cells": [
    {
      "cell_type": "code",
      "source": [
        "!pwd"
      ],
      "metadata": {
        "colab": {
          "base_uri": "https://localhost:8080/"
        },
        "id": "Hvo0MzerLS7i",
        "outputId": "bc89818a-35cf-43a5-8855-6a65970c84b7"
      },
      "execution_count": 2,
      "outputs": [
        {
          "output_type": "stream",
          "name": "stdout",
          "text": [
            "/content\n"
          ]
        }
      ]
    },
    {
      "cell_type": "code",
      "source": [
        "!ls"
      ],
      "metadata": {
        "colab": {
          "base_uri": "https://localhost:8080/"
        },
        "id": "Kb3mqMX8LVMc",
        "outputId": "601e24b5-bae8-4447-f3e9-8ddec10a0ce1"
      },
      "execution_count": 3,
      "outputs": [
        {
          "output_type": "stream",
          "name": "stdout",
          "text": [
            "sample_data\n"
          ]
        }
      ]
    },
    {
      "cell_type": "code",
      "source": [
        "!ls /usr/lib/jvm"
      ],
      "metadata": {
        "colab": {
          "base_uri": "https://localhost:8080/"
        },
        "id": "q38RyV28Lcjm",
        "outputId": "455dac75-0fb0-4f53-a5f7-19da756244c3"
      },
      "execution_count": 4,
      "outputs": [
        {
          "output_type": "stream",
          "name": "stdout",
          "text": [
            "default-java  java-1.11.0-openjdk-amd64  java-11-openjdk-amd64\n"
          ]
        }
      ]
    },
    {
      "cell_type": "code",
      "source": [
        "!apt-get update\n",
        "!apt-get install openjdk-8-jdk-headless -qq > /dev/null\n"
      ],
      "metadata": {
        "colab": {
          "base_uri": "https://localhost:8080/"
        },
        "id": "zar9qTRaLl2G",
        "outputId": "4839e88a-12e3-4fba-b5e3-0faaeef8c800"
      },
      "execution_count": 5,
      "outputs": [
        {
          "output_type": "stream",
          "name": "stdout",
          "text": [
            "\r0% [Working]\r            \rHit:1 http://archive.ubuntu.com/ubuntu bionic InRelease\n",
            "\r0% [Waiting for headers] [Waiting for headers] [Connecting to cloud.r-project.o\r                                                                               \rGet:2 http://archive.ubuntu.com/ubuntu bionic-updates InRelease [88.7 kB]\n",
            "\r                                                                               \rGet:3 http://security.ubuntu.com/ubuntu bionic-security InRelease [88.7 kB]\n",
            "\r                                                                               \rGet:4 http://ppa.launchpad.net/c2d4u.team/c2d4u4.0+/ubuntu bionic InRelease [15.9 kB]\n",
            "\r0% [2 InRelease 43.1 kB/88.7 kB 49%] [3 InRelease 43.1 kB/88.7 kB 49%] [Connect\r0% [1 InRelease gpgv 242 kB] [2 InRelease 47.5 kB/88.7 kB 54%] [3 InRelease 43.\r0% [1 InRelease gpgv 242 kB] [2 InRelease 47.5 kB/88.7 kB 54%] [Connected to cl\r0% [1 InRelease gpgv 242 kB] [Waiting for headers] [Connected to cloud.r-projec\r                                                                               \rHit:5 http://ppa.launchpad.net/cran/libgit2/ubuntu bionic InRelease\n",
            "\r0% [1 InRelease gpgv 242 kB] [Waiting for headers] [Connected to cloud.r-projec\r                                                                               \rGet:6 http://archive.ubuntu.com/ubuntu bionic-backports InRelease [74.6 kB]\n",
            "\r0% [1 InRelease gpgv 242 kB] [6 InRelease 17.1 kB/74.6 kB 23%] [Connected to cl\r0% [1 InRelease gpgv 242 kB] [Connected to cloud.r-project.org (108.157.4.10)] \r                                                                               \rGet:7 http://ppa.launchpad.net/deadsnakes/ppa/ubuntu bionic InRelease [15.9 kB]\n",
            "Get:8 http://ppa.launchpad.net/graphics-drivers/ppa/ubuntu bionic InRelease [21.3 kB]\n",
            "Get:9 https://cloud.r-project.org/bin/linux/ubuntu bionic-cran40/ InRelease [3,626 B]\n",
            "Ign:10 https://developer.download.nvidia.com/compute/cuda/repos/ubuntu1804/x86_64  InRelease\n",
            "Ign:11 https://developer.download.nvidia.com/compute/machine-learning/repos/ubuntu1804/x86_64  InRelease\n",
            "Get:12 https://developer.download.nvidia.com/compute/cuda/repos/ubuntu1804/x86_64  Release [696 B]\n",
            "Hit:13 https://developer.download.nvidia.com/compute/machine-learning/repos/ubuntu1804/x86_64  Release\n",
            "Get:14 https://developer.download.nvidia.com/compute/cuda/repos/ubuntu1804/x86_64  Release.gpg [836 B]\n",
            "Get:15 http://ppa.launchpad.net/c2d4u.team/c2d4u4.0+/ubuntu bionic/main Sources [1,826 kB]\n",
            "Get:16 http://ppa.launchpad.net/c2d4u.team/c2d4u4.0+/ubuntu bionic/main amd64 Packages [936 kB]\n",
            "Get:17 http://security.ubuntu.com/ubuntu bionic-security/multiverse amd64 Packages [21.1 kB]\n",
            "Get:18 http://security.ubuntu.com/ubuntu bionic-security/restricted amd64 Packages [783 kB]\n",
            "Get:19 http://security.ubuntu.com/ubuntu bionic-security/universe amd64 Packages [1,470 kB]\n",
            "Get:20 http://security.ubuntu.com/ubuntu bionic-security/main amd64 Packages [2,564 kB]\n",
            "Get:21 http://archive.ubuntu.com/ubuntu bionic-updates/universe amd64 Packages [2,248 kB]\n",
            "Get:22 http://archive.ubuntu.com/ubuntu bionic-updates/main amd64 Packages [3,004 kB]\n",
            "Get:23 http://archive.ubuntu.com/ubuntu bionic-updates/restricted amd64 Packages [816 kB]\n",
            "Get:24 http://archive.ubuntu.com/ubuntu bionic-updates/multiverse amd64 Packages [29.0 kB]\n",
            "Get:25 http://ppa.launchpad.net/deadsnakes/ppa/ubuntu bionic/main amd64 Packages [45.3 kB]\n",
            "Get:26 http://ppa.launchpad.net/graphics-drivers/ppa/ubuntu bionic/main amd64 Packages [42.8 kB]\n",
            "Get:28 https://developer.download.nvidia.com/compute/cuda/repos/ubuntu1804/x86_64  Packages [917 kB]\n",
            "Fetched 15.0 MB in 2s (6,769 kB/s)\n",
            "Reading package lists... Done\n"
          ]
        }
      ]
    },
    {
      "cell_type": "code",
      "source": [
        "!ls /usr/lib/jvm"
      ],
      "metadata": {
        "colab": {
          "base_uri": "https://localhost:8080/"
        },
        "id": "Xj5yACAeLw8E",
        "outputId": "74e86ab3-916c-4b2c-b4e5-c5699be29ae2"
      },
      "execution_count": 6,
      "outputs": [
        {
          "output_type": "stream",
          "name": "stdout",
          "text": [
            "default-java\t\t   java-11-openjdk-amd64     java-8-openjdk-amd64\n",
            "java-1.11.0-openjdk-amd64  java-1.8.0-openjdk-amd64\n"
          ]
        }
      ]
    },
    {
      "cell_type": "code",
      "source": [
        "#!wget -q https://downloads.apache.org/spark/spark-3.2.0/spark-3.2.0-bin-hadoop2.7.tgz\n",
        "!wget -q https://dlcdn.apache.org/spark/spark-3.0.3/spark-3.0.3-bin-hadoop2.7.tgz\n",
        "!ls\n",
        "!tar xf spark-3.0.3-bin-hadoop2.7.tgz"
      ],
      "metadata": {
        "colab": {
          "base_uri": "https://localhost:8080/"
        },
        "id": "Isg_o5oVL3-P",
        "outputId": "f38c8470-900b-4dda-dea0-bc55af9e7f1c"
      },
      "execution_count": 7,
      "outputs": [
        {
          "output_type": "stream",
          "name": "stdout",
          "text": [
            "sample_data  spark-3.0.3-bin-hadoop2.7.tgz\n"
          ]
        }
      ]
    },
    {
      "cell_type": "code",
      "source": [
        "!ls spark-3.0.3-bin-hadoop2.7.tgz\n"
      ],
      "metadata": {
        "colab": {
          "base_uri": "https://localhost:8080/"
        },
        "id": "ScA-DWUuL_eb",
        "outputId": "3bef871c-6d17-4bee-aea6-7bf8273717d0"
      },
      "execution_count": 8,
      "outputs": [
        {
          "output_type": "stream",
          "name": "stdout",
          "text": [
            "spark-3.0.3-bin-hadoop2.7.tgz\n"
          ]
        }
      ]
    },
    {
      "cell_type": "code",
      "source": [
        "!pip install -q findspark\n",
        "!pip install pyspark\n",
        "\n"
      ],
      "metadata": {
        "id": "w8AzJMRdMDjN",
        "colab": {
          "base_uri": "https://localhost:8080/"
        },
        "outputId": "1a23bdf6-4e72-4901-d812-9bd1d2b84265"
      },
      "execution_count": 9,
      "outputs": [
        {
          "output_type": "stream",
          "name": "stdout",
          "text": [
            "Collecting pyspark\n",
            "  Downloading pyspark-3.2.1.tar.gz (281.4 MB)\n",
            "\u001b[K     |████████████████████████████████| 281.4 MB 40 kB/s \n",
            "\u001b[?25hCollecting py4j==0.10.9.3\n",
            "  Downloading py4j-0.10.9.3-py2.py3-none-any.whl (198 kB)\n",
            "\u001b[K     |████████████████████████████████| 198 kB 61.9 MB/s \n",
            "\u001b[?25hBuilding wheels for collected packages: pyspark\n",
            "  Building wheel for pyspark (setup.py) ... \u001b[?25l\u001b[?25hdone\n",
            "  Created wheel for pyspark: filename=pyspark-3.2.1-py2.py3-none-any.whl size=281853642 sha256=7c6c5cc78e40ae29d3f043df812f8b637bc35e2fe71e71a8393cde3b092799f1\n",
            "  Stored in directory: /root/.cache/pip/wheels/9f/f5/07/7cd8017084dce4e93e84e92efd1e1d5334db05f2e83bcef74f\n",
            "Successfully built pyspark\n",
            "Installing collected packages: py4j, pyspark\n",
            "Successfully installed py4j-0.10.9.3 pyspark-3.2.1\n"
          ]
        }
      ]
    },
    {
      "cell_type": "code",
      "source": [
        "import os\n",
        "os.environ[\"JAVA_HOME\"]=\"/usr/lib/jvm/java-8-openjdk-amd64\"\n",
        "os.environ[\"SPARK_HOME\"]=\"/content/spark-3.0.3-bin-hadoop2.7\""
      ],
      "metadata": {
        "id": "a-kc-CFrN7M-"
      },
      "execution_count": 10,
      "outputs": []
    },
    {
      "cell_type": "code",
      "source": [
        "import findspark\n",
        "findspark.init()"
      ],
      "metadata": {
        "id": "4wMw61ATOj2N"
      },
      "execution_count": 11,
      "outputs": []
    },
    {
      "cell_type": "code",
      "source": [
        "from pyspark import SparkContext\n",
        "sc= SparkContext.getOrCreate()\n",
        "print(sc)\n",
        "print(sc.version)"
      ],
      "metadata": {
        "colab": {
          "base_uri": "https://localhost:8080/"
        },
        "id": "5XTvtvhoOpFQ",
        "outputId": "d7e8162f-62f9-4f58-8880-de6f22349963"
      },
      "execution_count": 12,
      "outputs": [
        {
          "output_type": "stream",
          "name": "stdout",
          "text": [
            "<SparkContext master=local[*] appName=pyspark-shell>\n",
            "3.0.3\n"
          ]
        }
      ]
    },
    {
      "cell_type": "code",
      "source": [
        "import pyspark\n",
        "from pyspark.sql import SparkSession\n",
        "spark = SparkSession.builder.appName('Basics').getOrCreate()\n",
        "print(spark)"
      ],
      "metadata": {
        "colab": {
          "base_uri": "https://localhost:8080/"
        },
        "id": "mLpOB1AKPs8f",
        "outputId": "db24584b-b1ac-493f-eb69-3830a9cfe005"
      },
      "execution_count": 13,
      "outputs": [
        {
          "output_type": "stream",
          "name": "stdout",
          "text": [
            "<pyspark.sql.session.SparkSession object at 0x7f1383a49b50>\n"
          ]
        }
      ]
    },
    {
      "cell_type": "code",
      "source": [
        "!pwd\n",
        "!ls"
      ],
      "metadata": {
        "colab": {
          "base_uri": "https://localhost:8080/"
        },
        "id": "VJtsx2FSPQnG",
        "outputId": "283d8358-13bd-4be4-82a3-2b1879e11cd7"
      },
      "execution_count": 14,
      "outputs": [
        {
          "output_type": "stream",
          "name": "stdout",
          "text": [
            "/content\n",
            "Aditya_Dataset.csv  Pratiksha_Dataset.csv  spark-3.0.3-bin-hadoop2.7\n",
            "DP_dataset.csv\t    sample_data\t\t   spark-3.0.3-bin-hadoop2.7.tgz\n"
          ]
        }
      ]
    },
    {
      "cell_type": "markdown",
      "source": [
        "LOAD JSON DATA "
      ],
      "metadata": {
        "id": "jhlgc9PaV7fD"
      }
    },
    {
      "cell_type": "code",
      "source": [
        "# Read multiline json file\n",
        "import json\n",
        "jsonFilePath = '/content/Pratiksha_Dataset.json'\n",
        "\n",
        "Pratiksha_json_df = spark.read.option(\"multiline\",\"true\") \\\n",
        "      .json(jsonFilePath)\n",
        "print(Pratiksha_json_df.count())\n",
        "Pratiksha_json_df.show()   "
      ],
      "metadata": {
        "colab": {
          "base_uri": "https://localhost:8080/"
        },
        "id": "XymPXafGWBzc",
        "outputId": "70fe722f-1d2f-4644-8299-83d229050e36"
      },
      "execution_count": 74,
      "outputs": [
        {
          "output_type": "stream",
          "name": "stdout",
          "text": [
            "50\n",
            "+---+------------------------+-----------+------------+--------+---------------+-----------------------+------+------------------+----------------------+----------------+------------------------+------------------+-------------+-------------+---+------------+\n",
            "|Age|Booster_Dose_Possibility|       City|Cowin_Ref_ID|Diseases|First_Dose_Date|First_Dose_Side_Effects|Gender|              Name|Positive_After_Vaccine|Second_Dose_Date|Second_Dose_Side_Effects|Second_Dose_Status|        State|Taken_Vaccine|UID|Vaccine_Name|\n",
            "+---+------------------------+-----------+------------+--------+---------------+-----------------------+------+------------------+----------------------+----------------+------------------------+------------------+-------------+-------------+---+------------+\n",
            "| 67|                     Yes| Ahmednagar|  6959353692|     Yes|     26/10/2021|                     No|Female|     Anamika Salve|                   Yes|      26/11/2021|                      No|               yes|  Maharashtra|          Yes|201|     Covaxin|\n",
            "| 23|                        |      Akola|            |        |               |                       |  Male|    Shashank kumar|                      |                |                        |                  |  Maharashtra|           No|202|            |\n",
            "| 53|                     Yes| Jamshedpur|  1157693293|     Yes|     27/09/2021|                     No|  Male|       Rohan Kumar|                   Yes|      28/11/2021|             yes, Mildly|               yes|    Jharkhand|          Yes|203|  Covishield|\n",
            "| 18|                     Yes|Bhubaneswar|  1766412616|      No|     01/06/2021|          yes, Strongly|Female|       Pooja Murde|                   Yes|      01/08/2021|             yes, Mildly|               yes|       Odisha|          Yes|204|  Covishield|\n",
            "| 55|                        |     Nashik|            |        |               |                       |  Male|Ashutosh mukherjee|                      |                |                        |                  |  Maharashtra|           No|205|            |\n",
            "| 76|                      No|    Jodhpur|  8343544084|      No|     01/12/2021|                     No|Female|     Ruchita Pagar|                   Yes|      06/02/2022|                      No|               yes|   Rajasthan |          Yes|206|  Covishield|\n",
            "| 21|                      No|    Lucknow|  2659722129|      No|     26/10/2021|                     No|  Male|      Rahul sharma|                    No|      27/12/2021|                      No|               yes|Uttar Pradesh|          Yes|207|  Covishield|\n",
            "| 68|                      No|      Akola|  9468023618|     Yes|     01/11/2021|            yes, Mildly|Female|    Vishakha Singh|                    No|      01/01/2022|             yes, Mildly|               yes|  Maharashtra|          Yes|208|  Covishield|\n",
            "| 62|                      No| Pratapgarh|  1160273338|      No|     10/12/2021|                     No|  Male|      Aditya patel|                   Yes|      11/02/2022|                      No|               yes|           UP|          Yes|209|  Covishield|\n",
            "| 21|                     Yes|       Pune|  9965629738|     Yes|     26/04/2021|          yes, Strongly|Female|      Mayuri murde|                   Yes|      26/05/2021|                      No|               yes|  Maharashtra|          Yes|210|     Covaxin|\n",
            "| 55|                     Yes|     Panaji|  1320505758|     Yes|     27/10/2021|                     No|Female|      Shital khose|                   Yes|      27/11/2021|             yes, Mildly|               yes|          Goa|          Yes|211|     Covaxin|\n",
            "| 71|                     Yes| Ahmednagar|  6070324368|     Yes|     09/10/2021|          yes, Strongly|Female|    Shital kardile|                   Yes|      09/12/2021|                      No|               yes|  Maharashtra|          Yes|212|  Covishield|\n",
            "| 45|                        |   Amravati|            |        |               |                       |  Male|       Karan patel|                      |                |                        |                  |  Maharashtra|           No|213|            |\n",
            "| 32|                        |Bhubaneswar|            |        |               |                       |Female|      Pooja Gahile|                      |                |                        |                  |       Odisha|           No|214|            |\n",
            "| 23|                      No|    Lucknow|  1411754951|     Yes|     01/07/2021|                     No|  Male|      Sanjay Kumar|                    No|      07/09/2021|                      No|               yes|Uttar Pradesh|          Yes|215|  Covishield|\n",
            "| 61|                      No|    LUCKNOW|  6188637448|      No|     09/08/2021|                     No|Female|    Pratiksha Kale|                    No|      19/10/2021|                      No|               yes|Uttar Pradesh|          Yes|216|  Covishield|\n",
            "| 21|                     Yes|    Jodhpur|  9089160762|      No|     21/11/2021|                     No|Female|       Sara shaikh|                   Yes|      21/12/2021|                      No|                No|   Rajasthan |          Yes|217|     Covaxin|\n",
            "| 55|                      No| Ahmednagar|  2128713826|      No|     09/12/2021|                     No|Female|  Saniya mukherjee|                   Yes|      06/02/2022|                      No|                No|  Maharashtra|          Yes|218|  Covishield|\n",
            "| 55|                        |   Durgapur|            |        |               |                       |  Male|      Kapil sharma|                      |                |                        |                  |  West Bengal|           No|219|            |\n",
            "| 18|                      No|      Delhi|  1663416436|     Yes|     01/01/2022|            yes, Mildly|Female|     Prajakta Sigh|                   Yes|      01/02/2022|             yes, Mildly|               yes|        Delhi|          Yes|220|     Covaxin|\n",
            "+---+------------------------+-----------+------------+--------+---------------+-----------------------+------+------------------+----------------------+----------------+------------------------+------------------+-------------+-------------+---+------------+\n",
            "only showing top 20 rows\n",
            "\n"
          ]
        }
      ]
    },
    {
      "cell_type": "code",
      "source": [
        "Aditya_mysql_df = spark.read.csv('/content/Aditya_Dataset.csv',header=True)\n",
        "print(Aditya_mysql_df.count())\n",
        "Aditya_mysql_df.show()"
      ],
      "metadata": {
        "colab": {
          "base_uri": "https://localhost:8080/"
        },
        "id": "cmNXpQYDPXYf",
        "outputId": "1528721b-2e4a-41b5-c26a-f3eff03db7fb"
      },
      "execution_count": 75,
      "outputs": [
        {
          "output_type": "stream",
          "name": "stdout",
          "text": [
            "61\n",
            "+---+--------------------+------+----------------+---------------+---+-------------+------------+---------------+-----------------------+----------------+------------------------+------------+------------------+----------------------+--------+------------------------+\n",
            "|UID|                Name|Gender|           State|           City|Age|Taken_Vaccine|Vaccine_Name|First_Dose_Date|First_Dose_Side_Effects|Second_Dose_Date|Second_Dose_Side_Effects|Cowin_Ref_ID|Second_Dose_Status|Positive_After_Vaccine|Diseases|Booster_Dose_Possibility|\n",
            "+---+--------------------+------+----------------+---------------+---+-------------+------------+---------------+-----------------------+----------------+------------------------+------------+------------------+----------------------+--------+------------------------+\n",
            "|  1|    Ashtbhuja shukla|  Male|  Uttar pradesh |       Varanasi| 60|          Yes|  covishield|     02/10/2021|                     No|      01/12/2021|                      No|  6813416428|               yes|                   yes|     Yes|                     yes|\n",
            "|  2|Santosh Kumar Mishra|  Male|   Uttar Pradesh|Lakhimpur Kheri| 64|          Yes|     covaxin|     01/01/2022|            yes, Mildly|      31/01/2022|                      No|  2352773109|               yes|                    No|     Yes|                      No|\n",
            "|  3|              Poonam|Female|   Uttar Pradesh|         Hardoi| 65|          Yes|     covaxin|     08/10/2021|                     No|      07/11/2021|                      No|  5081529239|               yes|                    No|     Yes|                     yes|\n",
            "|  4|     Divakar Dwivedi|  Male|   Uttar Pradesh|         Hardoi| 45|          Yes|     covaxin|     04/01/2022|                     No|      03/02/2022|                      No|  7800818412|               yes|                    No|    null|                    null|\n",
            "|  5|     Siyaram mistree|  Male|          U. P. |         Meerut| 58|           No|        null|           null|                   null|            null|                    null|        null|              null|                  null|    null|                    null|\n",
            "|  6|               Saroj|Female|   Uttar Pradesh|      Gorakhpur| 70|          Yes|  covishield|     10/10/2021|            yes, Mildly|      09/12/2021|             yes, Mildly|  5495274447|               yes|                   yes|    null|                     yes|\n",
            "|  7|           Ram bahal|  Male|   Uttar pradesh|      Ghaziabad| 61|          Yes|  cvoishield|     11/10/2021|                     No|      10/12/2021|             yes, Mildly|  2342952519|               yes|                    No|    null|                    null|\n",
            "|  8|pramod kumar sriv...|  Male|   Uttar Pradesh|          Noida| 35|          Yes|     covaxin|     04/12/2021|            yes, Mildly|      03/01/2022|                      No|  8067628138|               yes|                   yes|    null|                    null|\n",
            "|  9|       Ravi Kesrwani|  Male|          Kerala|          kochi| 56|           No|        null|           null|                   null|            null|                    null|        null|              null|                  null|    null|                    null|\n",
            "| 10|     Pratima Chauhan|Female|Himachal Pradesh|         Shimla| 72|          Yes|  covishield|     06/10/2021|                     No|      05/12/2021|                      No|  4315582761|               yes|                   yes|     Yes|                     yes|\n",
            "| 11|         Manu Sharma|  Male|     Uttarakhand|       Haridwar| 43|           No|        null|           null|                   null|            null|                    null|        null|              null|                  null|    null|                    null|\n",
            "| 12|        Rajni Gulati|Female|   Uttar Pradesh|      moradabad| 67|          Yes|  covishield|     28/10/2021|            yes, Mildly|      27/12/2021|                      No|  8210850475|               yes|                    No|     Yes|                      No|\n",
            "| 13|          Anuj Nigam|  Male|   Uttar pradesh|        Lucknow| 59|          Yes|  covishield|     12/09/2021|                     No|      11/11/2021|             yes, Mildly|  3877348952|               yes|                    No|     Yes|                     yes|\n",
            "| 14|       Umesh Tiwari |  Male|              HP|         Manali| 23|           No|        null|           null|                   null|            null|                    null|        null|              null|                  null|    null|                    null|\n",
            "| 15|          G.K mishra|  Male|              UP|        Lucknow| 64|          Yes|     covaxin|     13/11/2021|          yes, Strongly|      13/12/2021|             yes, Mildly|  1699348566|               yes|                   yes|     yes|                     yes|\n",
            "| 16|   Ananya Srivastava|Female|   Uttar Pradesh|        Lucknow| 22|           No|        null|           null|                   null|            null|                    null|        null|              null|                  null|    null|                    null|\n",
            "| 17|         Rahul Yadav|  Male|       Rajasthan|         Jaipur| 21|          Yes|     covaxin|     06/12/2021|            yes, Mildly|      05/01/2022|           yes, Strongly|  3632639892|               yes|                   yes|    null|                    null|\n",
            "| 18|     Aniruddh mishra|  Male|       Rajasthan|        Udaipur| 67|          Yes|     covaxin|     29/11/2021|                     No|      29/12/2021|                      No|  6601452488|               yes|                    No|     yes|                     yes|\n",
            "| 19|    Navin Maheshwari|  Male|             Goa|          panji| 54|          Yes|  covishield|     04/09/2021|                     No|      03/11/2021|             yes, Mildly|  8993670450|               yes|                    No|    null|                    null|\n",
            "| 20|         Saroj Yadav|Female|          Gujrat|      Ahemdabad| 51|          Yes|  covishield|     01/10/2021|            yes, Mildly|      30/11/2021|                      No|  8794305970|               yes|                   yes|    null|                    null|\n",
            "+---+--------------------+------+----------------+---------------+---+-------------+------------+---------------+-----------------------+----------------+------------------------+------------+------------------+----------------------+--------+------------------------+\n",
            "only showing top 20 rows\n",
            "\n"
          ]
        }
      ]
    },
    {
      "cell_type": "code",
      "source": [
        "Deepanshu_csv_df = spark.read.csv('/content/DP_dataset.csv',header=True)\n",
        "print(Deepanshu_csv_df.count())\n",
        "Deepanshu_csv_df.show()\n"
      ],
      "metadata": {
        "id": "6t1RDcIXPjwt",
        "colab": {
          "base_uri": "https://localhost:8080/"
        },
        "outputId": "bc70baa7-c188-476d-bd1f-d9203059f703"
      },
      "execution_count": 76,
      "outputs": [
        {
          "output_type": "stream",
          "name": "stdout",
          "text": [
            "59\n",
            "+---+-------------------+------+--------------+----------+---+-------------+------------+---------------+-----------------------+----------------+------------------------+------------+------------------+----------------------+--------+------------------------+\n",
            "|UID|               Name|Gender|         State|      City|Age|Taken_Vaccine|Vaccine_Name|First_Dose_Date|First_Dose_Side_Effects|Second_Dose_Date|Second_Dose_Side_Effects|Cowin_Ref_ID|Second_Dose_Status|Positive_After_Vaccine|Diseases|Booster_Dose_Possibility|\n",
            "+---+-------------------+------+--------------+----------+---+-------------+------------+---------------+-----------------------+----------------+------------------------+------------+------------------+----------------------+--------+------------------------+\n",
            "|  1|      Kailash yadav|  Male|        Gujrat|      Vapi| 53|          Yes|  covishield|     01/11/2021|          yes, Strongly|      31/12/2021|             yes, Mildly|  1210611429|               yes|                   yes|    null|                    null|\n",
            "|  2|        Saroj Yadav|Female| Uttar Pradesh|     Noida| 51|          Yes|     covaxin|     16/11/2021|            yes, Mildly|      16/12/2021|                      No|  8476237796|               yes|                    No|    null|                    null|\n",
            "|  3|  Bal kirshna yadav|  Male|Uttar pardesh�|     Noida| 68|          Yes|  covishield|     03/12/2021|                     No|      01/02/2022|           yes, Strongly|  3295189166|               yes|                    No|     yes|                      No|\n",
            "|  4|        Amita dixit|Female|   Maharashtra|    Mumbai| 40|           No|        null|           null|                   null|            null|                    null|  4147161115|              null|                  null|    null|                    null|\n",
            "|  5|    Sanjeev Chauhan|  Male|   Maharashtra|      Pune| 60|          Yes|  covishield|     15/10/2021|          yes, Strongly|      14/12/2021|              yes,Mildly|  2162623705|               yes|                    No|     yes|                     yes|\n",
            "|  6|  Raj Shekhar Singh|  Male|    Tamil Nadu|   Chennai| 25|           No|        null|           null|                   null|            null|                    null|  6099725513|              null|                  null|    null|                    null|\n",
            "|  7|     Harshit Pandey|  Male|     Karnataka|  Bangluru| 29|          Yes|     covaxin|     02/12/2021|          yes, Strongly|      01/01/2022|             yes, Mildly|  9865448764|               yes|                   yes|    null|                     yes|\n",
            "|  8|     Vanshika Singh|Female|Uttar Pradesh�| Raibareli| 21|           No|        null|           null|                   null|            null|                    null|  6573610051|              null|                  null|    null|                    null|\n",
            "|  9|       SHRUTI singh|Female|            UP|  Lucknow�| 66|          Yes|     covaxin|     19/11/2021|                     No|      19/12/2021|                      No|  6883054940|               yes|                   yes|    null|                     yes|\n",
            "| 10|       Selena Gomez|Female|     Karnataka|    Mysuru| 70|          Yes|  covishield|     25/02/2022|                     No|            null|                    null|        null|                No|                  null|    null|                    null|\n",
            "| 11| Chris kumar mishra|  Male|        U. P.�|     Noida| 62|          Yes|     covaxin|     30/01/2022|            yes, Mildly|            null|                    null|        null|                No|                  null|     yes|                    null|\n",
            "| 12|Tom Hiddelton singh|  Male|            Up|     Noida| 51|          Yes|     covaxin|     26/01/2022|                     No|            null|                    null|        null|                No|                  null|    null|                    null|\n",
            "| 13|      IronMan Kumar|  Male|       Haryana| Faridabad| 61|          Yes|     covaxin|     28/01/2022|                     No|            null|                    null|        null|                No|                  null|    null|                    null|\n",
            "| 14|       Batman Gupta|  Male|            Up|    Meerut| 65|          Yes|  covishield|     29/01/2022|                     No|            null|                    null|        null|                No|                  null|     yes|                    null|\n",
            "| 15|  Balckwidow Sharma|Female|       Haryana|  Gurugram| 70|          Yes|  covishield|     29/01/2022|                     No|            null|                    null|        null|                No|                  null|    null|                    null|\n",
            "| 16|    Superman Gujjar|  Male|        gujrat|     surat| 91|          Yes|  covishield|     28/01/2022|          Yes, Strongly|            null|                    null|        null|                No|                  null|     yes|                    null|\n",
            "| 17|    Spiderman Patel|  Male|            Up|   Lucknow| 43|          Yes|     covaxin|     30/01/2022|            Yes, mildly|            null|                    null|        null|                No|                  null|    null|                    null|\n",
            "| 18|      Aquaman gupta|  Male|         Delhi|Laxminagar| 50|          Yes|  covishield|     26/01/2022|            Yes, mildly|            null|                    null|        null|                No|                  null|    null|                    null|\n",
            "| 19|Dr. Strange Agarwal|  Male|       Haryana| Faridabad| 63|          yes|  covishield|     29/01/2022|                     No|            null|                    null|        null|                No|                  null|     yes|                    null|\n",
            "| 20|    Shang Chi Sinha|  Male|         Delhi|     Okhla| 65|          yes|  covishield|     30/01/2022|                     No|            null|                    null|        null|                No|                  null|     yes|                    null|\n",
            "+---+-------------------+------+--------------+----------+---+-------------+------------+---------------+-----------------------+----------------+------------------------+------------+------------------+----------------------+--------+------------------------+\n",
            "only showing top 20 rows\n",
            "\n"
          ]
        }
      ]
    },
    {
      "cell_type": "markdown",
      "source": [
        "MERGE DATAFRAMES"
      ],
      "metadata": {
        "id": "aBuz5YFrbj9t"
      }
    },
    {
      "cell_type": "code",
      "source": [
        "Merged_BoosterData =Pratiksha_json_df.union(Aditya_mysql_df).union(Deepanshu_csv_df) "
      ],
      "metadata": {
        "id": "1TpyfwRDXpz2"
      },
      "execution_count": 77,
      "outputs": []
    },
    {
      "cell_type": "code",
      "source": [
        "print(Merged_BoosterData.count())\n",
        "Merged_BoosterData.printSchema()\n"
      ],
      "metadata": {
        "colab": {
          "base_uri": "https://localhost:8080/"
        },
        "id": "THoAQKcQaORN",
        "outputId": "4b1eb575-f1ee-4eae-f0f0-70cb08f5fb73"
      },
      "execution_count": 78,
      "outputs": [
        {
          "output_type": "stream",
          "name": "stdout",
          "text": [
            "170\n",
            "root\n",
            " |-- Age: string (nullable = true)\n",
            " |-- Booster_Dose_Possibility: string (nullable = true)\n",
            " |-- City: string (nullable = true)\n",
            " |-- Cowin_Ref_ID: string (nullable = true)\n",
            " |-- Diseases: string (nullable = true)\n",
            " |-- First_Dose_Date: string (nullable = true)\n",
            " |-- First_Dose_Side_Effects: string (nullable = true)\n",
            " |-- Gender: string (nullable = true)\n",
            " |-- Name: string (nullable = true)\n",
            " |-- Positive_After_Vaccine: string (nullable = true)\n",
            " |-- Second_Dose_Date: string (nullable = true)\n",
            " |-- Second_Dose_Side_Effects: string (nullable = true)\n",
            " |-- Second_Dose_Status: string (nullable = true)\n",
            " |-- State: string (nullable = true)\n",
            " |-- Taken_Vaccine: string (nullable = true)\n",
            " |-- UID: string (nullable = true)\n",
            " |-- Vaccine_Name: string (nullable = true)\n",
            "\n"
          ]
        }
      ]
    },
    {
      "cell_type": "markdown",
      "source": [
        "TRANSFORMATIONS"
      ],
      "metadata": {
        "id": "P2xkN9G4inNu"
      }
    },
    {
      "cell_type": "code",
      "source": [
        "# 1. Change Datatypes (Typecasting)\n",
        "from pyspark.sql.types import IntegerType\n",
        "from pyspark.sql.functions import *\n",
        "\n",
        "Merged_BoosterData = Merged_BoosterData.withColumn(\"UID\",col(\"UID\").cast(IntegerType())) \\\n",
        "    .withColumn(\"Age\",col(\"Age\").cast(IntegerType())) \\\n",
        "    .withColumn(\"First_Dose_Date\",to_date(col(\"First_Dose_Date\"),\"dd/MM/yyyy\"))\\\n",
        "    .withColumn(\"Second_Dose_Date\",to_date(col(\"Second_Dose_Date\"),\"dd/MM/yyyy\"))\n"
      ],
      "metadata": {
        "id": "bK7LYSQHhShT"
      },
      "execution_count": 79,
      "outputs": []
    },
    {
      "cell_type": "code",
      "source": [
        "Merged_BoosterData.show()"
      ],
      "metadata": {
        "colab": {
          "base_uri": "https://localhost:8080/"
        },
        "id": "QYSEqehcb95B",
        "outputId": "e96389e4-cea9-45e8-eecd-dc9ead7c9415"
      },
      "execution_count": 80,
      "outputs": [
        {
          "output_type": "stream",
          "name": "stdout",
          "text": [
            "+---+------------------------+-----------+------------+--------+---------------+-----------------------+------+------------------+----------------------+----------------+------------------------+------------------+-------------+-------------+---+------------+\n",
            "|Age|Booster_Dose_Possibility|       City|Cowin_Ref_ID|Diseases|First_Dose_Date|First_Dose_Side_Effects|Gender|              Name|Positive_After_Vaccine|Second_Dose_Date|Second_Dose_Side_Effects|Second_Dose_Status|        State|Taken_Vaccine|UID|Vaccine_Name|\n",
            "+---+------------------------+-----------+------------+--------+---------------+-----------------------+------+------------------+----------------------+----------------+------------------------+------------------+-------------+-------------+---+------------+\n",
            "| 67|                     Yes| Ahmednagar|  6959353692|     Yes|     2021-10-26|                     No|Female|     Anamika Salve|                   Yes|      2021-11-26|                      No|               yes|  Maharashtra|          Yes|201|     Covaxin|\n",
            "| 23|                        |      Akola|            |        |           null|                       |  Male|    Shashank kumar|                      |            null|                        |                  |  Maharashtra|           No|202|            |\n",
            "| 53|                     Yes| Jamshedpur|  1157693293|     Yes|     2021-09-27|                     No|  Male|       Rohan Kumar|                   Yes|      2021-11-28|             yes, Mildly|               yes|    Jharkhand|          Yes|203|  Covishield|\n",
            "| 18|                     Yes|Bhubaneswar|  1766412616|      No|     2021-06-01|          yes, Strongly|Female|       Pooja Murde|                   Yes|      2021-08-01|             yes, Mildly|               yes|       Odisha|          Yes|204|  Covishield|\n",
            "| 55|                        |     Nashik|            |        |           null|                       |  Male|Ashutosh mukherjee|                      |            null|                        |                  |  Maharashtra|           No|205|            |\n",
            "| 76|                      No|    Jodhpur|  8343544084|      No|     2021-12-01|                     No|Female|     Ruchita Pagar|                   Yes|      2022-02-06|                      No|               yes|   Rajasthan |          Yes|206|  Covishield|\n",
            "| 21|                      No|    Lucknow|  2659722129|      No|     2021-10-26|                     No|  Male|      Rahul sharma|                    No|      2021-12-27|                      No|               yes|Uttar Pradesh|          Yes|207|  Covishield|\n",
            "| 68|                      No|      Akola|  9468023618|     Yes|     2021-11-01|            yes, Mildly|Female|    Vishakha Singh|                    No|      2022-01-01|             yes, Mildly|               yes|  Maharashtra|          Yes|208|  Covishield|\n",
            "| 62|                      No| Pratapgarh|  1160273338|      No|     2021-12-10|                     No|  Male|      Aditya patel|                   Yes|      2022-02-11|                      No|               yes|           UP|          Yes|209|  Covishield|\n",
            "| 21|                     Yes|       Pune|  9965629738|     Yes|     2021-04-26|          yes, Strongly|Female|      Mayuri murde|                   Yes|      2021-05-26|                      No|               yes|  Maharashtra|          Yes|210|     Covaxin|\n",
            "| 55|                     Yes|     Panaji|  1320505758|     Yes|     2021-10-27|                     No|Female|      Shital khose|                   Yes|      2021-11-27|             yes, Mildly|               yes|          Goa|          Yes|211|     Covaxin|\n",
            "| 71|                     Yes| Ahmednagar|  6070324368|     Yes|     2021-10-09|          yes, Strongly|Female|    Shital kardile|                   Yes|      2021-12-09|                      No|               yes|  Maharashtra|          Yes|212|  Covishield|\n",
            "| 45|                        |   Amravati|            |        |           null|                       |  Male|       Karan patel|                      |            null|                        |                  |  Maharashtra|           No|213|            |\n",
            "| 32|                        |Bhubaneswar|            |        |           null|                       |Female|      Pooja Gahile|                      |            null|                        |                  |       Odisha|           No|214|            |\n",
            "| 23|                      No|    Lucknow|  1411754951|     Yes|     2021-07-01|                     No|  Male|      Sanjay Kumar|                    No|      2021-09-07|                      No|               yes|Uttar Pradesh|          Yes|215|  Covishield|\n",
            "| 61|                      No|    LUCKNOW|  6188637448|      No|     2021-08-09|                     No|Female|    Pratiksha Kale|                    No|      2021-10-19|                      No|               yes|Uttar Pradesh|          Yes|216|  Covishield|\n",
            "| 21|                     Yes|    Jodhpur|  9089160762|      No|     2021-11-21|                     No|Female|       Sara shaikh|                   Yes|      2021-12-21|                      No|                No|   Rajasthan |          Yes|217|     Covaxin|\n",
            "| 55|                      No| Ahmednagar|  2128713826|      No|     2021-12-09|                     No|Female|  Saniya mukherjee|                   Yes|      2022-02-06|                      No|                No|  Maharashtra|          Yes|218|  Covishield|\n",
            "| 55|                        |   Durgapur|            |        |           null|                       |  Male|      Kapil sharma|                      |            null|                        |                  |  West Bengal|           No|219|            |\n",
            "| 18|                      No|      Delhi|  1663416436|     Yes|     2022-01-01|            yes, Mildly|Female|     Prajakta Sigh|                   Yes|      2022-02-01|             yes, Mildly|               yes|        Delhi|          Yes|220|     Covaxin|\n",
            "+---+------------------------+-----------+------------+--------+---------------+-----------------------+------+------------------+----------------------+----------------+------------------------+------------------+-------------+-------------+---+------------+\n",
            "only showing top 20 rows\n",
            "\n"
          ]
        }
      ]
    },
    {
      "cell_type": "code",
      "source": [
        "print(Merged_BoosterData.count())\n",
        "Merged_BoosterData.printSchema()\n"
      ],
      "metadata": {
        "colab": {
          "base_uri": "https://localhost:8080/"
        },
        "id": "8Ycf54Seiax8",
        "outputId": "e27d2034-cc6a-4562-fd1a-c8955be86e72"
      },
      "execution_count": 81,
      "outputs": [
        {
          "output_type": "stream",
          "name": "stdout",
          "text": [
            "170\n",
            "root\n",
            " |-- Age: integer (nullable = true)\n",
            " |-- Booster_Dose_Possibility: string (nullable = true)\n",
            " |-- City: string (nullable = true)\n",
            " |-- Cowin_Ref_ID: string (nullable = true)\n",
            " |-- Diseases: string (nullable = true)\n",
            " |-- First_Dose_Date: date (nullable = true)\n",
            " |-- First_Dose_Side_Effects: string (nullable = true)\n",
            " |-- Gender: string (nullable = true)\n",
            " |-- Name: string (nullable = true)\n",
            " |-- Positive_After_Vaccine: string (nullable = true)\n",
            " |-- Second_Dose_Date: date (nullable = true)\n",
            " |-- Second_Dose_Side_Effects: string (nullable = true)\n",
            " |-- Second_Dose_Status: string (nullable = true)\n",
            " |-- State: string (nullable = true)\n",
            " |-- Taken_Vaccine: string (nullable = true)\n",
            " |-- UID: integer (nullable = true)\n",
            " |-- Vaccine_Name: string (nullable = true)\n",
            "\n"
          ]
        }
      ]
    },
    {
      "cell_type": "code",
      "source": [
        "#2. Convert Columns to Boolean values\n",
        "#toBoolCols= [\"Second_Dose_Status\",\"Positive_After_Vaccine\", \"Diseases\"]\n",
        "#3. New column - Categorial column for Age>=60\n",
        "#4. New column - DaysSince2ndDose\n",
        "#5. VaccineName aliasing\n",
        "\n",
        "from pyspark.sql.functions import when,col\n",
        "\n",
        "Merged_BoosterData = Merged_BoosterData.withColumn(\"Second_Dose_Status\", \\\n",
        "      when((Merged_BoosterData.Second_Dose_Status==\"Yes\") | (Merged_BoosterData.Second_Dose_Status==\"yes\"), \"True\") \\\n",
        "     .when((Merged_BoosterData.Second_Dose_Status==\"No\") | (Merged_BoosterData.Second_Dose_Status==\"no\"), \"False\") \\\n",
        "     .otherwise('NA') )\\\n",
        "  .withColumn(\"Positive_After_Vaccine\", \\\n",
        "     when((Merged_BoosterData.Positive_After_Vaccine==\"Yes\") | (Merged_BoosterData.Positive_After_Vaccine==\"yes\"), \"True\") \\\n",
        "     .when((Merged_BoosterData.Positive_After_Vaccine==\"No\") | (Merged_BoosterData.Positive_After_Vaccine==\"no\"), \"False\") \\\n",
        "     .otherwise('NA') )\\\n",
        "  .withColumn(\"Diseases\", \\\n",
        "      when((Merged_BoosterData.Diseases==\"Yes\") | (Merged_BoosterData.Diseases==\"yes\"), \"True\") \\\n",
        "     .when((Merged_BoosterData.Diseases==\"No\") | (Merged_BoosterData.Diseases==\"no\"), \"False\") \\\n",
        "     .otherwise('NA')) \\\n",
        "  .withColumn(\"IsAgeGreaterThan60\", \\\n",
        "      when((Merged_BoosterData.Age>=60), \"True\") \\\n",
        "     .otherwise(\"False\"))\\\n",
        "  .withColumn(\"DaysSince2ndDose\", datediff(current_date(),col(\"Second_Dose_Date\")))\\\n",
        "  .withColumn(\"Vaccine_Name\", \\\n",
        "      when((Merged_BoosterData.Vaccine_Name==\"Covaxin\") | (Merged_BoosterData.Vaccine_Name==\"covaxin\"), \"Covaxin\") \\\n",
        "     .when((Merged_BoosterData.Vaccine_Name==\"Covishield\") | (Merged_BoosterData.Vaccine_Name==\"covishield\"), \"Covishield\") \\\n",
        "     .otherwise('NA'))"
      ],
      "metadata": {
        "id": "wX1Kjs1yaaSV"
      },
      "execution_count": 82,
      "outputs": []
    },
    {
      "cell_type": "code",
      "source": [
        "Merged_BoosterData.show()"
      ],
      "metadata": {
        "colab": {
          "base_uri": "https://localhost:8080/"
        },
        "id": "kIgGrJOIAhEE",
        "outputId": "4a064f8d-5d2f-4e54-cfcc-b060c403d438"
      },
      "execution_count": 83,
      "outputs": [
        {
          "output_type": "stream",
          "name": "stdout",
          "text": [
            "+---+------------------------+-----------+------------+--------+---------------+-----------------------+------+------------------+----------------------+----------------+------------------------+------------------+-------------+-------------+---+------------+------------------+----------------+\n",
            "|Age|Booster_Dose_Possibility|       City|Cowin_Ref_ID|Diseases|First_Dose_Date|First_Dose_Side_Effects|Gender|              Name|Positive_After_Vaccine|Second_Dose_Date|Second_Dose_Side_Effects|Second_Dose_Status|        State|Taken_Vaccine|UID|Vaccine_Name|IsAgeGreaterThan60|DaysSince2ndDose|\n",
            "+---+------------------------+-----------+------------+--------+---------------+-----------------------+------+------------------+----------------------+----------------+------------------------+------------------+-------------+-------------+---+------------+------------------+----------------+\n",
            "| 67|                     Yes| Ahmednagar|  6959353692|    True|     2021-10-26|                     No|Female|     Anamika Salve|                  True|      2021-11-26|                      No|              True|  Maharashtra|          Yes|201|     Covaxin|              True|              84|\n",
            "| 23|                        |      Akola|            |      NA|           null|                       |  Male|    Shashank kumar|                    NA|            null|                        |                NA|  Maharashtra|           No|202|          NA|             False|            null|\n",
            "| 53|                     Yes| Jamshedpur|  1157693293|    True|     2021-09-27|                     No|  Male|       Rohan Kumar|                  True|      2021-11-28|             yes, Mildly|              True|    Jharkhand|          Yes|203|  Covishield|             False|              82|\n",
            "| 18|                     Yes|Bhubaneswar|  1766412616|   False|     2021-06-01|          yes, Strongly|Female|       Pooja Murde|                  True|      2021-08-01|             yes, Mildly|              True|       Odisha|          Yes|204|  Covishield|             False|             201|\n",
            "| 55|                        |     Nashik|            |      NA|           null|                       |  Male|Ashutosh mukherjee|                    NA|            null|                        |                NA|  Maharashtra|           No|205|          NA|             False|            null|\n",
            "| 76|                      No|    Jodhpur|  8343544084|   False|     2021-12-01|                     No|Female|     Ruchita Pagar|                  True|      2022-02-06|                      No|              True|   Rajasthan |          Yes|206|  Covishield|              True|              12|\n",
            "| 21|                      No|    Lucknow|  2659722129|   False|     2021-10-26|                     No|  Male|      Rahul sharma|                 False|      2021-12-27|                      No|              True|Uttar Pradesh|          Yes|207|  Covishield|             False|              53|\n",
            "| 68|                      No|      Akola|  9468023618|    True|     2021-11-01|            yes, Mildly|Female|    Vishakha Singh|                 False|      2022-01-01|             yes, Mildly|              True|  Maharashtra|          Yes|208|  Covishield|              True|              48|\n",
            "| 62|                      No| Pratapgarh|  1160273338|   False|     2021-12-10|                     No|  Male|      Aditya patel|                  True|      2022-02-11|                      No|              True|           UP|          Yes|209|  Covishield|              True|               7|\n",
            "| 21|                     Yes|       Pune|  9965629738|    True|     2021-04-26|          yes, Strongly|Female|      Mayuri murde|                  True|      2021-05-26|                      No|              True|  Maharashtra|          Yes|210|     Covaxin|             False|             268|\n",
            "| 55|                     Yes|     Panaji|  1320505758|    True|     2021-10-27|                     No|Female|      Shital khose|                  True|      2021-11-27|             yes, Mildly|              True|          Goa|          Yes|211|     Covaxin|             False|              83|\n",
            "| 71|                     Yes| Ahmednagar|  6070324368|    True|     2021-10-09|          yes, Strongly|Female|    Shital kardile|                  True|      2021-12-09|                      No|              True|  Maharashtra|          Yes|212|  Covishield|              True|              71|\n",
            "| 45|                        |   Amravati|            |      NA|           null|                       |  Male|       Karan patel|                    NA|            null|                        |                NA|  Maharashtra|           No|213|          NA|             False|            null|\n",
            "| 32|                        |Bhubaneswar|            |      NA|           null|                       |Female|      Pooja Gahile|                    NA|            null|                        |                NA|       Odisha|           No|214|          NA|             False|            null|\n",
            "| 23|                      No|    Lucknow|  1411754951|    True|     2021-07-01|                     No|  Male|      Sanjay Kumar|                 False|      2021-09-07|                      No|              True|Uttar Pradesh|          Yes|215|  Covishield|             False|             164|\n",
            "| 61|                      No|    LUCKNOW|  6188637448|   False|     2021-08-09|                     No|Female|    Pratiksha Kale|                 False|      2021-10-19|                      No|              True|Uttar Pradesh|          Yes|216|  Covishield|              True|             122|\n",
            "| 21|                     Yes|    Jodhpur|  9089160762|   False|     2021-11-21|                     No|Female|       Sara shaikh|                  True|      2021-12-21|                      No|             False|   Rajasthan |          Yes|217|     Covaxin|             False|              59|\n",
            "| 55|                      No| Ahmednagar|  2128713826|   False|     2021-12-09|                     No|Female|  Saniya mukherjee|                  True|      2022-02-06|                      No|             False|  Maharashtra|          Yes|218|  Covishield|             False|              12|\n",
            "| 55|                        |   Durgapur|            |      NA|           null|                       |  Male|      Kapil sharma|                    NA|            null|                        |                NA|  West Bengal|           No|219|          NA|             False|            null|\n",
            "| 18|                      No|      Delhi|  1663416436|    True|     2022-01-01|            yes, Mildly|Female|     Prajakta Sigh|                  True|      2022-02-01|             yes, Mildly|              True|        Delhi|          Yes|220|     Covaxin|             False|              17|\n",
            "+---+------------------------+-----------+------------+--------+---------------+-----------------------+------+------------------+----------------------+----------------+------------------------+------------------+-------------+-------------+---+------------+------------------+----------------+\n",
            "only showing top 20 rows\n",
            "\n"
          ]
        }
      ]
    },
    {
      "cell_type": "code",
      "source": [
        ""
      ],
      "metadata": {
        "id": "kXu8MHHphRgC"
      },
      "execution_count": null,
      "outputs": []
    },
    {
      "cell_type": "code",
      "source": [
        "#6. New column - \"IsBoosterApplicable\" => if (Vaccine_Name ==\"Covishield\" & DaysSince2ndDose > 60) -OR (Vaccine_Name ==\"Covaxin\" & DaysSince2ndDose > 30) -> True ELse False\n",
        "Merged_BoosterData=Merged_BoosterData.withColumn(\"IsBoosterApplicable\", \\\n",
        "      when((Merged_BoosterData.Vaccine_Name ==\"Covishield\") & (Merged_BoosterData.DaysSince2ndDose > 60), \"True\") \\\n",
        "     .when((Merged_BoosterData.Vaccine_Name==\"Covaxin\") & (Merged_BoosterData.DaysSince2ndDose > 30), \"True\") \\\n",
        "     .otherwise('False'))"
      ],
      "metadata": {
        "id": "9OS3DRVq___a"
      },
      "execution_count": 84,
      "outputs": []
    },
    {
      "cell_type": "code",
      "source": [
        "Merged_BoosterData.show()"
      ],
      "metadata": {
        "colab": {
          "base_uri": "https://localhost:8080/"
        },
        "id": "80xiXzIugXtc",
        "outputId": "7bb589ec-5ec6-4e77-d202-d1b8d5867982"
      },
      "execution_count": 68,
      "outputs": [
        {
          "output_type": "stream",
          "name": "stdout",
          "text": [
            "+---+------------------------+-----------+------------+--------+---------------+-----------------------+------+------------------+----------------------+----------------+------------------------+------------------+-------------+-------------+---+------------+------------------+----------------+-------------------+\n",
            "|Age|Booster_Dose_Possibility|       City|Cowin_Ref_ID|Diseases|First_Dose_Date|First_Dose_Side_Effects|Gender|              Name|Positive_After_Vaccine|Second_Dose_Date|Second_Dose_Side_Effects|Second_Dose_Status|        State|Taken_Vaccine|UID|Vaccine_Name|IsAgeGreaterThan60|DaysSince2ndDose|IsBoosterApplicable|\n",
            "+---+------------------------+-----------+------------+--------+---------------+-----------------------+------+------------------+----------------------+----------------+------------------------+------------------+-------------+-------------+---+------------+------------------+----------------+-------------------+\n",
            "| 67|                     Yes| Ahmednagar|  6959353692|    True|     2021-10-26|                     No|Female|     Anamika Salve|                  True|      2021-11-26|                      No|              True|  Maharashtra|          Yes|201|     Covaxin|              True|              84|               True|\n",
            "| 23|                        |      Akola|            |      NA|           null|                       |  Male|    Shashank kumar|                    NA|            null|                        |                NA|  Maharashtra|           No|202|          NA|             False|            null|              False|\n",
            "| 53|                     Yes| Jamshedpur|  1157693293|    True|     2021-09-27|                     No|  Male|       Rohan Kumar|                  True|      2021-11-28|             yes, Mildly|              True|    Jharkhand|          Yes|203|  Covishield|             False|              82|               True|\n",
            "| 18|                     Yes|Bhubaneswar|  1766412616|   False|     2021-06-01|          yes, Strongly|Female|       Pooja Murde|                  True|      2021-08-01|             yes, Mildly|              True|       Odisha|          Yes|204|  Covishield|             False|             201|               True|\n",
            "| 55|                        |     Nashik|            |      NA|           null|                       |  Male|Ashutosh mukherjee|                    NA|            null|                        |                NA|  Maharashtra|           No|205|          NA|             False|            null|              False|\n",
            "| 76|                      No|    Jodhpur|  8343544084|   False|     2021-12-01|                     No|Female|     Ruchita Pagar|                  True|      2022-02-06|                      No|              True|   Rajasthan |          Yes|206|  Covishield|              True|              12|              False|\n",
            "| 21|                      No|    Lucknow|  2659722129|   False|     2021-10-26|                     No|  Male|      Rahul sharma|                 False|      2021-12-27|                      No|              True|Uttar Pradesh|          Yes|207|  Covishield|             False|              53|              False|\n",
            "| 68|                      No|      Akola|  9468023618|    True|     2021-11-01|            yes, Mildly|Female|    Vishakha Singh|                 False|      2022-01-01|             yes, Mildly|              True|  Maharashtra|          Yes|208|  Covishield|              True|              48|              False|\n",
            "| 62|                      No| Pratapgarh|  1160273338|   False|     2021-12-10|                     No|  Male|      Aditya patel|                  True|      2022-02-11|                      No|              True|           UP|          Yes|209|  Covishield|              True|               7|              False|\n",
            "| 21|                     Yes|       Pune|  9965629738|    True|     2021-04-26|          yes, Strongly|Female|      Mayuri murde|                  True|      2021-05-26|                      No|              True|  Maharashtra|          Yes|210|     Covaxin|             False|             268|               True|\n",
            "| 55|                     Yes|     Panaji|  1320505758|    True|     2021-10-27|                     No|Female|      Shital khose|                  True|      2021-11-27|             yes, Mildly|              True|          Goa|          Yes|211|     Covaxin|             False|              83|               True|\n",
            "| 71|                     Yes| Ahmednagar|  6070324368|    True|     2021-10-09|          yes, Strongly|Female|    Shital kardile|                  True|      2021-12-09|                      No|              True|  Maharashtra|          Yes|212|  Covishield|              True|              71|               True|\n",
            "| 45|                        |   Amravati|            |      NA|           null|                       |  Male|       Karan patel|                    NA|            null|                        |                NA|  Maharashtra|           No|213|          NA|             False|            null|              False|\n",
            "| 32|                        |Bhubaneswar|            |      NA|           null|                       |Female|      Pooja Gahile|                    NA|            null|                        |                NA|       Odisha|           No|214|          NA|             False|            null|              False|\n",
            "| 23|                      No|    Lucknow|  1411754951|    True|     2021-07-01|                     No|  Male|      Sanjay Kumar|                 False|      2021-09-07|                      No|              True|Uttar Pradesh|          Yes|215|  Covishield|             False|             164|               True|\n",
            "| 61|                      No|    LUCKNOW|  6188637448|   False|     2021-08-09|                     No|Female|    Pratiksha Kale|                 False|      2021-10-19|                      No|              True|Uttar Pradesh|          Yes|216|  Covishield|              True|             122|               True|\n",
            "| 21|                     Yes|    Jodhpur|  9089160762|   False|     2021-11-21|                     No|Female|       Sara shaikh|                  True|      2021-12-21|                      No|             False|   Rajasthan |          Yes|217|     Covaxin|             False|              59|               True|\n",
            "| 55|                      No| Ahmednagar|  2128713826|   False|     2021-12-09|                     No|Female|  Saniya mukherjee|                  True|      2022-02-06|                      No|             False|  Maharashtra|          Yes|218|  Covishield|             False|              12|              False|\n",
            "| 55|                        |   Durgapur|            |      NA|           null|                       |  Male|      Kapil sharma|                    NA|            null|                        |                NA|  West Bengal|           No|219|          NA|             False|            null|              False|\n",
            "| 18|                      No|      Delhi|  1663416436|    True|     2022-01-01|            yes, Mildly|Female|     Prajakta Sigh|                  True|      2022-02-01|             yes, Mildly|              True|        Delhi|          Yes|220|     Covaxin|             False|              17|              False|\n",
            "+---+------------------------+-----------+------------+--------+---------------+-----------------------+------+------------------+----------------------+----------------+------------------------+------------------+-------------+-------------+---+------------+------------------+----------------+-------------------+\n",
            "only showing top 20 rows\n",
            "\n"
          ]
        }
      ]
    },
    {
      "cell_type": "code",
      "source": [
        "#Merged_BoosterData.createOrReplaceTempView(\"BoosterPred\")\n",
        "#sp=spark.sql(\"SELECT * FROM BoosterPred where Second_Dose_Date is not null\")\n",
        "print(Merged_BoosterData.count())\n",
        "Merged_BoosterData.printSchema()\n"
      ],
      "metadata": {
        "colab": {
          "base_uri": "https://localhost:8080/"
        },
        "id": "5C3ZW_XFBod_",
        "outputId": "b456d357-915e-4b20-d255-3cd42202168b"
      },
      "execution_count": 85,
      "outputs": [
        {
          "output_type": "stream",
          "name": "stdout",
          "text": [
            "170\n",
            "root\n",
            " |-- Age: integer (nullable = true)\n",
            " |-- Booster_Dose_Possibility: string (nullable = true)\n",
            " |-- City: string (nullable = true)\n",
            " |-- Cowin_Ref_ID: string (nullable = true)\n",
            " |-- Diseases: string (nullable = false)\n",
            " |-- First_Dose_Date: date (nullable = true)\n",
            " |-- First_Dose_Side_Effects: string (nullable = true)\n",
            " |-- Gender: string (nullable = true)\n",
            " |-- Name: string (nullable = true)\n",
            " |-- Positive_After_Vaccine: string (nullable = false)\n",
            " |-- Second_Dose_Date: date (nullable = true)\n",
            " |-- Second_Dose_Side_Effects: string (nullable = true)\n",
            " |-- Second_Dose_Status: string (nullable = false)\n",
            " |-- State: string (nullable = true)\n",
            " |-- Taken_Vaccine: string (nullable = true)\n",
            " |-- UID: integer (nullable = true)\n",
            " |-- Vaccine_Name: string (nullable = false)\n",
            " |-- IsAgeGreaterThan60: string (nullable = false)\n",
            " |-- DaysSince2ndDose: integer (nullable = true)\n",
            " |-- IsBoosterApplicable: string (nullable = false)\n",
            "\n"
          ]
        }
      ]
    },
    {
      "cell_type": "code",
      "source": [
        "#Convert Final Merged Transformed data to csv\n",
        "Merged_BoosterData.repartition(1).write.option(\"header\",\"true\")\\\n",
        "   .csv(\"/content/BoosterMergedTransformedData/BoosterDataFinal\")\n",
        "#Table_H.repartition(1).write.option(\"header\",True).csv(\"Adress3\")\n"
      ],
      "metadata": {
        "id": "cBARReYDCJKT"
      },
      "execution_count": 86,
      "outputs": []
    },
    {
      "cell_type": "code",
      "source": [
        ""
      ],
      "metadata": {
        "id": "jWngsC3tCdz8"
      },
      "execution_count": null,
      "outputs": []
    }
  ]
}